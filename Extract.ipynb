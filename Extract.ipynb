{
 "cells": [
  {
   "attachments": {},
   "cell_type": "markdown",
   "id": "7c156478",
   "metadata": {},
   "source": [
    "### Dataset Extraction from .bag file "
   ]
  },
  {
   "cell_type": "code",
   "execution_count": null,
   "id": "e47ee071",
   "metadata": {},
   "outputs": [],
   "source": [
    "# EXtraction For RGB  Salute Videos \n",
    "import os\n",
    "import cv2\n",
    "import numpy as np\n",
    "import glob\n",
    "\n",
    "cnt = 1\n",
    "\n",
    "for filename in glob.glob('Salute/*.bag'):\n",
    "    addressbag = f'C:/Users/Tushar/Documents/{filename}'\n",
    "    addresspng = f'C:/Users/Tushar/Documents/Salute_color/{cnt}'\n",
    "\n",
    "    os.system(f'rs-convert.exe -c -p {addresspng} -i {addressbag}')\n",
    "\n",
    "    cnt = cnt + 1\n",
    "    "
   ]
  },
  {
   "cell_type": "code",
   "execution_count": 20,
   "id": "a2d1da55",
   "metadata": {},
   "outputs": [],
   "source": [
    "# Extraction For RGB-D Salute Videos \n",
    "import os\n",
    "import cv2\n",
    "import numpy as np\n",
    "import glob\n",
    "\n",
    "cnt = 1\n",
    "\n",
    "for filename in glob.glob('Salute/*.bag'):\n",
    "    addressbag = f'C:/Users/Tushar/Documents/{filename}'\n",
    "    addresspng = f'C:/Users/Tushar/Documents/Salute_depth/{cnt}'\n",
    "\n",
    "    os.system(f'rs-convert.exe -d -p {addresspng} -i {addressbag}')\n",
    "\n",
    "    cnt = cnt + 1"
   ]
  },
  {
   "cell_type": "code",
   "execution_count": 21,
   "id": "fc4dcf69",
   "metadata": {},
   "outputs": [],
   "source": [
    "# Video making from extracted RGB Salute videos\n",
    "cnt_color = 1\n",
    "\n",
    "for x in range(cnt-1):\n",
    "    \n",
    "    img_array = []\n",
    "    for filename in glob.glob(f'Salute_color/{cnt_color}_Color*.png'):\n",
    "        img = cv2.imread(filename)\n",
    "        height, width, layers = img.shape\n",
    "        size = (width,height)\n",
    "        img_array.append(img)\n",
    "\n",
    "\n",
    "    out = cv2.VideoWriter(f'Salute_rgb_v/{cnt_color}.mp4',cv2.VideoWriter_fourcc(*'DIVX'),23 , size)\n",
    "\n",
    "    for i in range(len(img_array)):\n",
    "        out.write(img_array[i])\n",
    "    out.release()\n",
    "    \n",
    "    cnt_color += 1"
   ]
  },
  {
   "cell_type": "code",
   "execution_count": 26,
   "id": "e99aa212",
   "metadata": {},
   "outputs": [],
   "source": [
    "# RGB video making from extracted for RGB-D Frames\n",
    "cnt_depth = 1\n",
    "\n",
    "for x in range(cnt-1):\n",
    "    \n",
    "    img_array = []\n",
    "    for filename in glob.glob(f'Salute_depth/{cnt_depth}_Depth*.png'):\n",
    "        img = cv2.imread(filename)\n",
    "        height, width, layers = img.shape\n",
    "        size = (width,height)\n",
    "        img_array.append(img)\n",
    "\n",
    "\n",
    "    out = cv2.VideoWriter(f'Salute_d_v/{cnt_depth}.mp4',cv2.VideoWriter_fourcc(*'DIVX'),23 , size)\n",
    "\n",
    "    for i in range(len(img_array)):\n",
    "        out.write(img_array[i])\n",
    "    out.release()\n",
    "    \n",
    "    cnt_depth += 1"
   ]
  }
 ],
 "metadata": {
  "kernelspec": {
   "display_name": "Python 3",
   "language": "python",
   "name": "python3"
  },
  "language_info": {
   "codemirror_mode": {
    "name": "ipython",
    "version": 3
   },
   "file_extension": ".py",
   "mimetype": "text/x-python",
   "name": "python",
   "nbconvert_exporter": "python",
   "pygments_lexer": "ipython3",
   "version": "3.10.5 (tags/v3.10.5:f377153, Jun  6 2022, 16:14:13) [MSC v.1929 64 bit (AMD64)]"
  },
  "vscode": {
   "interpreter": {
    "hash": "7cd1ebbcb81ae1195287e83c2708a29d02366349f77da364435ec4a19f9f426f"
   }
  }
 },
 "nbformat": 4,
 "nbformat_minor": 5
}
